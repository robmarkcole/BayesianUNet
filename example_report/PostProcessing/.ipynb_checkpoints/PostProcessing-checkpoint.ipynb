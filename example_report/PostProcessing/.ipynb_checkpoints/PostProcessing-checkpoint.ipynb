{
 "cells": [
  {
   "cell_type": "code",
   "execution_count": 3,
   "id": "3aec16b2-b1d5-437b-808e-47f35a4f053f",
   "metadata": {},
   "outputs": [],
   "source": [
    "import cv2\n",
    "import numpy as np"
   ]
  },
  {
   "cell_type": "code",
   "execution_count": 4,
   "id": "3ecba3ad-ce84-4829-b80e-87fecdca90c9",
   "metadata": {},
   "outputs": [],
   "source": [
    "# Reading the input image\n",
    "img = cv2.imread('mutual.png', 0)\n",
    " \n",
    "# Taking a matrix of size 5 as the kernel\n",
    "kernel = np.ones((5,5), np.uint8)\n",
    " \n",
    "# The first parameter is the original image,\n",
    "# kernel is the matrix with which image is\n",
    "# convolved and third parameter is the number\n",
    "# of iterations, which will determine how much\n",
    "# you want to erode/dilate a given image.\n",
    "img_erosion = cv2.erode(img, kernel, iterations=1)\n",
    "img_dilation = cv2.dilate(img, kernel, iterations=1)\n",
    " \n"
   ]
  },
  {
   "cell_type": "code",
   "execution_count": 5,
   "id": "fd13e6de-77eb-4bd6-b8a0-61dca0873e94",
   "metadata": {},
   "outputs": [],
   "source": [
    "cv2.imshow('Input', img)"
   ]
  },
  {
   "cell_type": "code",
   "execution_count": null,
   "id": "2ec206ad-8d12-46c8-aaad-2a5b946c3b58",
   "metadata": {},
   "outputs": [],
   "source": []
  }
 ],
 "metadata": {
  "kernelspec": {
   "display_name": "Python [conda env:ada] *",
   "language": "python",
   "name": "conda-env-ada-py"
  },
  "language_info": {
   "codemirror_mode": {
    "name": "ipython",
    "version": 3
   },
   "file_extension": ".py",
   "mimetype": "text/x-python",
   "name": "python",
   "nbconvert_exporter": "python",
   "pygments_lexer": "ipython3",
   "version": "3.8.11"
  }
 },
 "nbformat": 4,
 "nbformat_minor": 5
}
